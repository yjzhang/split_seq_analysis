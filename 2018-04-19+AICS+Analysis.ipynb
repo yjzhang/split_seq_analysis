{
 "cells": [
  {
   "cell_type": "code",
   "execution_count": 1,
   "metadata": {},
   "outputs": [
    {
     "name": "stderr",
     "output_type": "stream",
     "text": [
      "/net/gs/vol3/software/modules-sw/python/3.5.2/Linux/RHEL6/x86_64/lib/python3.5/site-packages/h5py/__init__.py:36: FutureWarning: Conversion of the second argument of issubdtype from `float` to `np.floating` is deprecated. In future, it will be treated as `np.float64 == np.dtype(float).type`.\n",
      "  from ._conv import register_converters as _register_converters\n"
     ]
    }
   ],
   "source": [
    "import pandas as pd\n",
    "import scanpy.api as sc\n",
    "import anndata as \n",
    "import scipy.io as sio\n",
    "import numpy as np\n",
    "import scipy.sparse\n",
    "import scipy\n",
    "import seaborn as sb\n",
    "from sklearn.preprocessing import normalize\n",
    "from pylab import *\n",
    "fsize=14\n",
    "%matplotlib inline"
   ]
  },
  {
   "cell_type": "code",
   "execution_count": 2,
   "metadata": {
    "collapsed": true
   },
   "outputs": [],
   "source": [
    "#Path change required (you have the \"pipeline\" folder on hard drive)\n",
    "\n",
    "barcodes_8nt = pd.read_csv('/net/shendure/vol8/projects/BCBL/Mixing/ref/barcodes_96.csv',names=['barcodes'],index_col=0).barcodes\n",
    "barcode2well = dict(zip(barcodes_8nt.values,list(range(48))+list(range(48))))\n",
    "\n",
    "barcodes_8nt_v2 = pd.read_csv('/net/shendure/vol8/projects/BCBL/Mixing/ref/barcodes_8nt_v2.csv',names=['barcodes']).barcodes\n",
    "barcode2well_v2 = dict(zip(barcodes_8nt_v2.values,list(range(48))+list(range(48))))\n",
    "\n",
    "\n",
    "\n",
    "def load_data_combine_hex_combine_genes(filenames,read_cutoff=100):\n",
    "    if type(filenames)==str:\n",
    "        df = pd.read_csv(filenames,names=['barcode','gene'])\n",
    "        df['gene'] = df.gene.apply(lambda s:s.split('_')[0])\n",
    "    else:\n",
    "        dfs = []\n",
    "        for f in filenames:\n",
    "            print (f),\n",
    "            cur_df = pd.read_csv(f,names=['barcode','gene'])\n",
    "            cur_df['gene'] = cur_df.gene.apply(lambda s:s.split('_')[0]+'_'+s.split('_')[-1])\n",
    "            cur_df['barcode'] = cur_df.barcode.str.slice(0,24)+'_'+f.split('/')[-2]\n",
    "            dfs.append(cur_df)\n",
    "        df = pd.concat(dfs)\n",
    "    df['barcode'] = df.barcode.str.slice(0,16)+'_'+df.barcode.apply(lambda s:str(barcode2well_v2[s[16:24]])) + df.barcode.str.slice(24)\n",
    "    reads_per_cell = df.groupby(df.barcode).size()\n",
    "    cells = reads_per_cell[reads_per_cell>3]\n",
    "    all_genes = df.gene.unique()\n",
    "    gene_dict = dict(zip(all_genes,range(len(all_genes))))\n",
    "    cell_dict = dict(zip(cells.index.values,range(len(cells.index.values))))\n",
    "    rows,cols,vals = [],[],[]\n",
    "    for bc,g in zip(df.barcode.values,df.gene.values):\n",
    "        try:\n",
    "            cell_dict[bc]\n",
    "        except:\n",
    "            pass\n",
    "        else:\n",
    "            rows.append(cell_dict[bc])\n",
    "            cols.append(gene_dict[g])\n",
    "            vals.append(1)\n",
    "    rows.append(len(cell_dict)-1)\n",
    "    cols.append(len(gene_dict)-1)\n",
    "    vals.append(0)\n",
    "    digital_count_matrix = scipy.sparse.csr_matrix((vals,(rows,cols)),dtype=np.float64)\n",
    "    thresholded_cells = np.array(digital_count_matrix.sum(1)).flatten()>read_cutoff\n",
    "    digital_count_matrix = digital_count_matrix[thresholded_cells,:]\n",
    "    expressed_genes = np.array(digital_count_matrix.sum(0)).flatten()>0\n",
    "    all_genes = pd.Series(all_genes[expressed_genes])\n",
    "    digital_count_matrix = digital_count_matrix[:,expressed_genes]\n",
    "    barcodes = cells.index.values[thresholded_cells]\n",
    "    return digital_count_matrix,all_genes,barcodes\n",
    "\n",
    "def barnyard(digital_count_matrix,all_genes,tickstep=2500,s=4,lim=None):\n",
    "    colors = list(sb.color_palette('Set1',n_colors=2)) + ['gray']\n",
    "    sb.set_style(\"white\")\n",
    "    sb.set_style(\"ticks\")\n",
    "    fig = figure(figsize=(3,3))\n",
    "    ax = fig.add_subplot(111)\n",
    "    human_genes = all_genes.str.slice(-5)=='HUMAN'\n",
    "    mouse_genes = all_genes.str.slice(-5)=='MOUSE'\n",
    "    human_counts = np.array(digital_count_matrix[:,find(human_genes)].sum(1)).flatten()\n",
    "    mouse_counts = np.array(digital_count_matrix[:,find(mouse_genes)].sum(1)).flatten()\n",
    "    human_cells = human_counts>(mouse_counts*9)\n",
    "    mouse_cells = mouse_counts>(human_counts*9)\n",
    "    mixed_cells = ~(human_cells|mouse_cells)\n",
    "    scatter(human_counts[mixed_cells],\n",
    "            mouse_counts[mixed_cells],\n",
    "            color=colors[2],\n",
    "            s=s)\n",
    "    scatter(human_counts[mouse_cells],\n",
    "            mouse_counts[mouse_cells],\n",
    "            color=colors[0],\n",
    "            s=s,\n",
    "            alpha=1,\n",
    "           )\n",
    "    scatter(human_counts[human_cells],\n",
    "            mouse_counts[human_cells],\n",
    "            color=colors[1],\n",
    "            s=s)\n",
    "\n",
    "    scatter([],[],\n",
    "            color=colors[0],\n",
    "            s=10,\n",
    "            label='%d Mouse (%0.1f'%(sum(mouse_cells),100*float(sum(mouse_cells))/len(mouse_cells))+'%)',\n",
    "           )\n",
    "    scatter([],[],\n",
    "            color=colors[1],\n",
    "            label='%d Human (%0.1f'%(sum(human_cells),100*float(sum(human_cells))/len(human_cells))+'%)',\n",
    "            s=10)\n",
    "    scatter([],[],\n",
    "            color=colors[2],\n",
    "            label='%d Mixed (%0.1f'%(sum(mixed_cells),100*float(sum(mixed_cells))/len(mixed_cells))+'%)',\n",
    "            s=10)\n",
    "    if lim==None:\n",
    "        lim = int(digital_count_matrix.sum(1).max()*1.1)\n",
    "    ax.set_xticks(arange(0,lim,tickstep))\n",
    "    ax.set_yticks(arange(0,lim,tickstep))\n",
    "    ax.set_xticklabels(arange(0,lim,tickstep),rotation=90)\n",
    "    ax.axis([-int(lim/30.),lim,-int(lim/30.),lim])\n",
    "    ax.set_xlabel('Human UMI Counts',fontsize=fsize)\n",
    "    ax.set_ylabel('Mouse UMI Counts',fontsize=fsize)\n",
    "    ax.tick_params(labelsize=fsize)\n",
    "    ax.yaxis.tick_left()\n",
    "    ax.xaxis.tick_bottom()\n",
    "    ax.legend(bbox_to_anchor=(1.01,1.0),fontsize=fsize-1,handletextpad=0.025)\n",
    "    #fig.savefig(filename+'.png',dpi=300,bbox_inches='tight')\n",
    "    #fig.savefig(filename+'.pdf',dpi=300,bbox_inches='tight')\n",
    "    return fig,ax\n",
    "\n",
    "def get_stats(digital_count_matrix,all_genes):\n",
    "    human_genes = all_genes.str.slice(-5)=='HUMAN'\n",
    "    mouse_genes = all_genes.str.slice(-5)=='MOUSE'\n",
    "    human_counts = np.array(digital_count_matrix[:,find(human_genes)].sum(1)).flatten()\n",
    "    mouse_counts = np.array(digital_count_matrix[:,find(mouse_genes)].sum(1)).flatten()\n",
    "    human_cells = human_counts>(mouse_counts*9)\n",
    "    mouse_cells = mouse_counts>(human_counts*9)\n",
    "    human_gene_counts = []\n",
    "    human_umi_counts = np.array(digital_count_matrix[find(human_cells),:].sum(1)).flatten()\n",
    "    mouse_umi_counts = np.array(digital_count_matrix[find(mouse_cells),:].sum(1)).flatten()\n",
    "    for ind in find(human_cells):\n",
    "        human_gene_counts.append(len(pd.Series(all_genes)[find(digital_count_matrix[ind,:].todense()>0)].apply(lambda s:s.split('_')[0]).unique()))\n",
    "    mouse_gene_counts = []\n",
    "    for ind in find(mouse_cells):\n",
    "        mouse_gene_counts.append(len(pd.Series(all_genes)[find(digital_count_matrix[ind,:].todense()>0)].apply(lambda s:s.split('_')[0]).unique()))\n",
    "    print( 'Mean number of genes in human cells:', mean(human_gene_counts))\n",
    "    print( 'Mean number of genes in mouse cells:', mean(mouse_gene_counts))\n",
    "    print( 'Median number of genes in human cells:', median(human_gene_counts))\n",
    "    print( 'Median number of genes in mouse cells:', median(mouse_gene_counts))\n",
    "    print( 'Mean number of UMIs in human cells:', mean(human_umi_counts))\n",
    "    print( 'Mean number of UMIs in mouse cells:', mean(mouse_umi_counts))\n",
    "    print( 'Median number of UMIs in human cells:', median(human_umi_counts))\n",
    "    print( 'Median number of UMIs in mouse cells:', median(mouse_umi_counts))\n",
    "    print( 'Mean human purity',mean(human_counts[human_cells]/(human_counts[human_cells]+mouse_counts[human_cells])))\n",
    "    print( 'Mean mouse purity',mean(mouse_counts[mouse_cells]/(human_counts[mouse_cells]+mouse_counts[mouse_cells])))\n",
    "    print( 'Fraction human cells', mean(human_cells))\n",
    "    print( 'Fraction mouse cells', mean(mouse_cells))\n",
    "    print( 'Fraction multiplet cells', 1-mean(mouse_cells|human_cells))\n",
    "    print( 'Total Cells', len(human_cells))\n",
    "    return human_gene_counts,mouse_gene_counts\n",
    "\n",
    "def print_dup_rate(filedir):\n",
    "    filtered_barcodes_TAG = pd.read_csv(filedir+'read_barcodes_filtered.txt',names=['barcodes']).barcodes.values\n",
    "    filter_barcode_dict_TAG  = dict(zip(list(filtered_barcodes_TAG ),np.ones(len(filtered_barcodes_TAG ))))\n",
    "    samfile = pysam.Samfile(filedir+'/star_gene_tagged.bam')\n",
    "    barcode_umis = []\n",
    "    seqs = []\n",
    "    genes = []\n",
    "    c = 0\n",
    "    for read in samfile:\n",
    "        cur_bc = read.qname[:35]\n",
    "        cur_bc = cur_bc[:24]+cur_bc[25:35]\n",
    "        try:\n",
    "            filter_barcode_dict_TAG[cur_bc]\n",
    "            if not read.is_secondary:\n",
    "                barcode_umis.append(read.qname[:35])\n",
    "                seqs.append(read.seq)\n",
    "                try:\n",
    "                    genes.append(dict(read.tags)['GE'])\n",
    "                except:\n",
    "                    genes.append('')\n",
    "        except:\n",
    "            pass\n",
    "        if c %100000==0:\n",
    "            print(c,end=' ')\n",
    "        c+=1\n",
    "        if c>3000000:\n",
    "            break\n",
    "    barcode_umis = pd.Series(barcode_umis)\n",
    "    seqs = pd.Series(seqs)\n",
    "    genes = pd.Series(genes)\n",
    "    samfile.close()\n",
    "    barcode_umi_counts = barcode_umis.groupby(barcode_umis).apply(size)\n",
    "    print()\n",
    "    print('Dup rate:',1 - sum(barcode_umi_counts>0)/float(sum(barcode_umi_counts)))\n",
    "    print()"
   ]
  },
  {
   "cell_type": "code",
   "execution_count": 3,
   "metadata": {
    "collapsed": true
   },
   "outputs": [],
   "source": [
    "def plot_read_thresh(sub_inds=None):\n",
    "    if sub_inds is None:\n",
    "        sub_inds = arange(len(barcodes))\n",
    "    read_counts = pd.Series(index=barcodes[sub_inds],data=np.array(digital_count_matrix[sub_inds].sum(1)).flatten())\n",
    "    window = 4\n",
    "    sorted_read_counts = pd.Series(log10(read_counts.sort_values(ascending=False).values))\n",
    "    x = log10(sorted_read_counts.groupby(sorted_read_counts).size()[::-1].cumsum())\n",
    "    y = pd.Series(sorted_read_counts.groupby(sorted_read_counts).size()[::-1].index)\n",
    "    threshold = int((pd.Series(pd.rolling_mean(y.diff().values/x.diff().values,window)).idxmin()-window/2.))\n",
    "    read_threshold = read_counts.sort_values(ascending=False)[threshold]\n",
    "    median_umis = read_counts.sort_values(ascending=False)[:threshold].median()\n",
    "    fig = figure(figsize=(3,3))\n",
    "    ax = fig.add_subplot(111)\n",
    "    ax.plot(range(len(read_counts)),(read_counts.sort_values(ascending=False)).values,color='lightgray',linewidth=2)\n",
    "    ax.plot(range(threshold),(read_counts.sort_values(ascending=False)).values[:threshold],color='g',linewidth=0,marker='o')\n",
    "    ax.set_xscale('log')\n",
    "    ax.set_yscale('log')\n",
    "    _ = ax.set_xlabel('# Barcodes (logscale)')\n",
    "    _ = ax.set_ylabel('# UMIs (logscale)')\n",
    "    ax.text(1,10,' n_cells: %d\\n read cutoff: %d\\n median_umis: %d' %(threshold,read_threshold,median_umis))"
   ]
  },
  {
   "cell_type": "code",
   "execution_count": null,
   "metadata": {},
   "outputs": [
    {
     "name": "stdout",
     "output_type": "stream",
     "text": [
      "/net/shendure/vol10/projects/BCBL/Mixing/results/20180419.AICS/s1/read_assignment_s1.csv\n",
      "/net/shendure/vol10/projects/BCBL/Mixing/results/20180419.AICS/s2/read_assignment_s2.csv\n",
      "/net/shendure/vol10/projects/BCBL/Mixing/results/20180419.AICS/s3/read_assignment_s3.csv\n"
     ]
    }
   ],
   "source": [
    "files=['/net/shendure/vol10/projects/BCBL/Mixing/results/20180419.AICS/s%d/read_assignment_s%d.csv' %(i,i) for i in [1,2,3]]\n",
    "digital_count_matrix,all_genes,barcodes = load_data_combine_hex_combine_genes(files,\n",
    "                                                                              read_cutoff=2000)"
   ]
  },
  {
   "cell_type": "code",
   "execution_count": null,
   "metadata": {
    "collapsed": true
   },
   "outputs": [],
   "source": [
    "read_counts = pd.Series(np.array(digital_count_matrix.sum(1)).flatten())"
   ]
  },
  {
   "cell_type": "code",
   "execution_count": null,
   "metadata": {
    "collapsed": true
   },
   "outputs": [],
   "source": [
    "#samples_list = arange(48).reshape(4,12).astype(str)\n",
    "#samples_list[:,:6] = 'donor'\n",
    "#samples_list[:,6:8] = 'infusion'\n",
    "#samples_list[:,8:] = 'pbmc'\n",
    "#samples_list = samples_list.flatten()\n",
    "#sample_dict = dict(zip(range(48),samples_list))\n",
    "\n",
    "bcs = pd.Series(barcodes)\n",
    "wellid = bcs.apply(lambda s:int(s.split('_')[1]))\n",
    "#sample_types = wellid.apply(lambda x:sample_dict[x])"
   ]
  },
  {
   "cell_type": "code",
   "execution_count": null,
   "metadata": {},
   "outputs": [],
   "source": [
    "plot_read_thresh()"
   ]
  },
  {
   "cell_type": "code",
   "execution_count": null,
   "metadata": {},
   "outputs": [],
   "source": [
    "read_thresh = 2000\n",
    "inds = find(read_counts>read_thresh)\n",
    "digital_count_matrix = digital_count_matrix[inds]\n",
    "barcodes = barcodes[inds]"
   ]
  },
  {
   "cell_type": "code",
   "execution_count": null,
   "metadata": {},
   "outputs": [],
   "source": [
    "pd.Series(np.array((digital_count_matrix).sum(1)).flatten()).median()"
   ]
  },
  {
   "cell_type": "code",
   "execution_count": null,
   "metadata": {},
   "outputs": [],
   "source": [
    "gene_counts = pd.Series(np.array((digital_count_matrix>0).sum(1)).flatten())"
   ]
  },
  {
   "cell_type": "code",
   "execution_count": null,
   "metadata": {},
   "outputs": [],
   "source": [
    "gene_counts.median()"
   ]
  },
  {
   "cell_type": "code",
   "execution_count": null,
   "metadata": {},
   "outputs": [],
   "source": [
    "gene_counts.hist(bins=40)"
   ]
  },
  {
   "cell_type": "code",
   "execution_count": null,
   "metadata": {},
   "outputs": [],
   "source": [
    "obs = pd.DataFrame()\n",
    "obs['sample'] = wellid[inds].values\n",
    "X = digital_count_matrix.todense()\n",
    "nonzero_gene_inds = find(X.sum(0)>0)\n",
    "genes = all_genes.iloc[nonzero_gene_inds]\n",
    "X = np.array(X[:,nonzero_gene_inds])\n",
    "var = pd.DataFrame(index=genes.values)\n",
    "adata = ad.AnnData(X, obs=obs, var=var, dtype='float64')"
   ]
  },
  {
   "cell_type": "code",
   "execution_count": null,
   "metadata": {
    "collapsed": true
   },
   "outputs": [],
   "source": [
    "sc.pp.filter_cells(adata, min_genes=100)\n",
    "sc.pp.filter_genes(adata, min_cells=3)"
   ]
  },
  {
   "cell_type": "code",
   "execution_count": null,
   "metadata": {
    "collapsed": true
   },
   "outputs": [],
   "source": [
    "mito_genes = [name for name in adata.var_names if (name.startswith('MT-') or name.startswith('mt-'))]\n",
    "# for each cell compute fraction of counts in mito genes vs. all genes\n",
    "# the \".A1\" is only necessary, as X is sparse - it transform to a dense array after summing\n",
    "adata.obs['percent_mito'] = np.sum(\n",
    "    adata[:, mito_genes].X, axis=1) / np.sum(adata.X, axis=1)\n",
    "# add the total counts per cell as observations-annotation to adata\n",
    "adata.obs['n_counts'] = np.sum(adata.X, axis=1)"
   ]
  },
  {
   "cell_type": "code",
   "execution_count": null,
   "metadata": {},
   "outputs": [],
   "source": [
    "sc.pl.violin(adata, ['n_genes', 'n_counts', 'percent_mito'],\n",
    "             jitter=0.4, multi_panel=True)"
   ]
  },
  {
   "cell_type": "code",
   "execution_count": null,
   "metadata": {},
   "outputs": [],
   "source": [
    "sc.pl.scatter(adata, x='n_counts', y='percent_mito')\n",
    "sc.pl.scatter(adata, x='n_counts', y='n_genes')"
   ]
  },
  {
   "cell_type": "code",
   "execution_count": null,
   "metadata": {
    "collapsed": true
   },
   "outputs": [],
   "source": [
    "adata_raw = sc.pp.log1p(adata, copy=True)\n",
    "adata.raw = adata_raw"
   ]
  },
  {
   "cell_type": "code",
   "execution_count": null,
   "metadata": {},
   "outputs": [],
   "source": [
    "sc.pp.normalize_per_cell(adata, counts_per_cell_after=1e4)\n",
    "filter_result = sc.pp.filter_genes_dispersion(\n",
    "    adata.X, min_mean=0.0125, max_mean=3, min_disp=0.5)\n",
    "sc.pl.filter_genes_dispersion(filter_result)"
   ]
  },
  {
   "cell_type": "code",
   "execution_count": null,
   "metadata": {
    "collapsed": true
   },
   "outputs": [],
   "source": [
    "adata = adata[:, filter_result.gene_subset]"
   ]
  },
  {
   "cell_type": "code",
   "execution_count": null,
   "metadata": {
    "collapsed": true
   },
   "outputs": [],
   "source": [
    "sc.pp.log1p(adata)"
   ]
  },
  {
   "cell_type": "code",
   "execution_count": null,
   "metadata": {
    "collapsed": true
   },
   "outputs": [],
   "source": [
    "#sc.pp.regress_out(adata, ['n_counts', 'percent_mito'])"
   ]
  },
  {
   "cell_type": "code",
   "execution_count": null,
   "metadata": {
    "collapsed": true
   },
   "outputs": [],
   "source": [
    "sc.pp.scale(adata, max_value=10)"
   ]
  },
  {
   "cell_type": "code",
   "execution_count": null,
   "metadata": {
    "collapsed": true
   },
   "outputs": [],
   "source": [
    "sc.tl.pca(adata)"
   ]
  },
  {
   "cell_type": "code",
   "execution_count": null,
   "metadata": {},
   "outputs": [],
   "source": [
    "adata.obsm['X_pca'] *= -1  # multiply by -1 to match Seurat R\n",
    "sc.pl.pca_scatter(adata, color='MKI67_HUMAN', right_margin=0.2)"
   ]
  },
  {
   "cell_type": "code",
   "execution_count": null,
   "metadata": {},
   "outputs": [],
   "source": [
    "sc.pl.pca_variance_ratio(adata, log=True)"
   ]
  },
  {
   "cell_type": "code",
   "execution_count": null,
   "metadata": {
    "collapsed": true
   },
   "outputs": [],
   "source": [
    "sc.tl.tsne(adata, n_pcs=30, random_state=2, use_fast_tsne=False)"
   ]
  },
  {
   "cell_type": "code",
   "execution_count": null,
   "metadata": {
    "collapsed": true
   },
   "outputs": [],
   "source": [
    "sc.pl.set_rcParams_Scanpy()"
   ]
  },
  {
   "cell_type": "code",
   "execution_count": null,
   "metadata": {
    "collapsed": true
   },
   "outputs": [],
   "source": [
    "#all_genes[all_genes.str.contains('MT-')]"
   ]
  },
  {
   "cell_type": "code",
   "execution_count": null,
   "metadata": {},
   "outputs": [],
   "source": [
    "adata"
   ]
  },
  {
   "cell_type": "code",
   "execution_count": null,
   "metadata": {
    "scrolled": true
   },
   "outputs": [],
   "source": [
    "ax = sc.pl.tsne(adata, color=['n_counts','n_genes','percent_mito','MKI67_HUMAN'],\n",
    "                color_map='Purples',alpha=0.5,size=30)"
   ]
  },
  {
   "cell_type": "code",
   "execution_count": null,
   "metadata": {
    "collapsed": true
   },
   "outputs": [],
   "source": [
    "sc.tl.louvain(adata, n_neighbors=10, resolution=0.75, recompute_graph=True)"
   ]
  },
  {
   "cell_type": "code",
   "execution_count": null,
   "metadata": {},
   "outputs": [],
   "source": [
    "sc.pl.tsne(adata, color='louvain_groups',size=15)"
   ]
  },
  {
   "cell_type": "code",
   "execution_count": null,
   "metadata": {},
   "outputs": [],
   "source": [
    "sc.pl.tsne(adata, color='sample',size=15)"
   ]
  },
  {
   "cell_type": "code",
   "execution_count": null,
   "metadata": {},
   "outputs": [],
   "source": [
    "sc.tl.rank_genes_groups(adata, 'louvain_groups')\n",
    "sc.pl.rank_genes_groups(adata, n_genes=20)"
   ]
  },
  {
   "cell_type": "code",
   "execution_count": 43,
   "metadata": {
    "collapsed": true
   },
   "outputs": [],
   "source": [
    "def get_cluster_exp(normed_counts,labels):\n",
    "    cluster_names = pd.Series(unique(labels))\n",
    "    cluster_names = cluster_names[cluster_names!=-1].values\n",
    "    num_clust = len(cluster_names)\n",
    "    cluster_fraction = {}\n",
    "    cluster_counts = {}\n",
    "    for i in cluster_names:\n",
    "        if len(find(labels==i))>0:\n",
    "            cur_matrix = normed_counts[find(labels==i)]\n",
    "            cluster_fraction[i] = pd.Series(index=all_genes,data=np.array((cur_matrix>0).mean(0)).flatten())\n",
    "            cluster_counts[i] = pd.Series(index=all_genes,data=np.array(cur_matrix.sum(0)).flatten())\n",
    "    cluster_fraction = pd.DataFrame(cluster_fraction)\n",
    "    cluster_counts = pd.DataFrame(cluster_counts)\n",
    "\n",
    "    cluster_tpm = cluster_counts/cluster_counts.sum(0)*1e6+1\n",
    "\n",
    "    cluster_diff_expression = {}\n",
    "    for cur_cluster in cluster_counts.columns:\n",
    "        cur_cluster_tpm = cluster_counts[cur_cluster]/cluster_counts[cur_cluster].sum()*1e6+1\n",
    "        other_cluster_counts = cluster_counts.sum(1)-cluster_counts[cur_cluster]\n",
    "        other_cluster_tpm = other_cluster_counts/other_cluster_counts.sum()*1e6+1\n",
    "        cur_cluster_diff = log2(cur_cluster_tpm/other_cluster_tpm)\n",
    "        cluster_diff_expression[cur_cluster]  = cur_cluster_diff\n",
    "    cluster_diff_expression = pd.DataFrame(cluster_diff_expression)\n",
    "    return cluster_fraction,cluster_tpm,cluster_diff_expression\n",
    "\n",
    "def tsne_plot(X_tsne,labels,cluster_diff_expression,cluster_fraction,dotsize=0.1,num_genes=3,label_clusters=True):\n",
    "    cluster_names = pd.Series(unique(labels))\n",
    "    cluster_names = cluster_names[cluster_names!=-1].values\n",
    "    num_clust = len(cluster_names)\n",
    "    fig = figure(figsize=(8,8))\n",
    "    ax = fig.add_subplot(111)\n",
    "    colors = sb.color_palette(\"hls\", num_clust)\n",
    "    c=0\n",
    "    for i in cluster_names:\n",
    "        if sum(labels==i)>0:\n",
    "            cur_diff_gene = list(cluster_diff_expression[cluster_fraction[i]>0.2].sort_values(by=i,ascending=False).head(10).index[0:5])\n",
    "            scatter(X_tsne[labels==i,0][:20000],\n",
    "                    X_tsne[labels==i,1][:20000],color=colors[c],s=dotsize)\n",
    "            if label_clusters:\n",
    "                ax.text(X_tsne[labels==i,0].mean(),\n",
    "                        X_tsne[labels==i,1].mean(),str(i),fontsize=16)\n",
    "            c+=1\n",
    "    c=0\n",
    "    for i in cluster_names:\n",
    "        if sum(labels==i)>0:\n",
    "            cur_diff_gene = list(cluster_diff_expression[cluster_fraction[i]>0.2].sort_values(by=i,ascending=False).head(10).index[0:num_genes])\n",
    "            cur_diff_gene = [s.split('_')[0] for s in cur_diff_gene]\n",
    "            scatter([],\n",
    "                    [],color=colors[c],s=70,label='Cluster_%s: '%str(i).split('.')[0]+str(cur_diff_gene)[1:-1]+', N='+str(sum(labels==i)))\n",
    "            c+=1\n",
    "\n",
    "    ax.yaxis.tick_left()\n",
    "    ax.xaxis.tick_bottom()\n",
    "    ax.set_xlabel('t-SNE 1',fontsize=fsize)\n",
    "    ax.set_ylabel('t-SNE 2',fontsize=fsize)\n",
    "    ax.legend(bbox_to_anchor=(2.25,1),fontsize=16)\n",
    "    ax.axis([X_tsne[:,0].min()-2,X_tsne[:,0].max()+2,X_tsne[:,1].min()-2,X_tsne[:,1].max()+2])"
   ]
  },
  {
   "cell_type": "code",
   "execution_count": 239,
   "metadata": {
    "collapsed": true
   },
   "outputs": [],
   "source": [
    "all_genes = genes.iloc[human_genes]"
   ]
  },
  {
   "cell_type": "code",
   "execution_count": 241,
   "metadata": {
    "collapsed": true
   },
   "outputs": [],
   "source": [
    "normed_counts = normalize(X[:,human_genes],'l1',axis=1)"
   ]
  },
  {
   "cell_type": "code",
   "execution_count": 242,
   "metadata": {},
   "outputs": [
    {
     "data": {
      "text/plain": [
       "((5631, 25658), (5631,))"
      ]
     },
     "execution_count": 242,
     "metadata": {},
     "output_type": "execute_result"
    }
   ],
   "source": [
    "normed_counts.shape,labels.shape"
   ]
  },
  {
   "cell_type": "code",
   "execution_count": 243,
   "metadata": {
    "collapsed": true
   },
   "outputs": [],
   "source": [
    "labels = adata.obs['louvain_groups'].values\n",
    "cluster_fraction,cluster_tpm,cluster_diff_expression = get_cluster_exp(normed_counts,labels)"
   ]
  },
  {
   "cell_type": "code",
   "execution_count": 244,
   "metadata": {
    "collapsed": true
   },
   "outputs": [],
   "source": [
    "cluster_fraction.to_csv('/net/shendure/vol10/projects/BCBL/Mixing/results/20180228.HumanCerebellum/fraction_cells_expressing.csv')\n",
    "cluster_tpm.to_csv('/net/shendure/vol10/projects/BCBL/Mixing/results/20180228.HumanCerebellum/cluster_tpm.csv')\n",
    "cluster_diff_expression.to_csv('/net/shendure/vol10/projects/BCBL/Mixing/results/20180228.HumanCerebellum/cluster_log2_diff.csv')"
   ]
  },
  {
   "cell_type": "code",
   "execution_count": 247,
   "metadata": {
    "collapsed": true
   },
   "outputs": [],
   "source": [
    "diff_genes = {}\n",
    "for i in range(21):\n",
    "    diff_genes[i] = list(cluster_diff_expression[cluster_fraction[str(i)]>0.2].sort_values(by=str(i),ascending=False)[:10].index)\n",
    "diff_genes = pd.DataFrame(diff_genes)"
   ]
  },
  {
   "cell_type": "code",
   "execution_count": 249,
   "metadata": {},
   "outputs": [
    {
     "data": {
      "text/html": [
       "<div>\n",
       "<style scoped>\n",
       "    .dataframe tbody tr th:only-of-type {\n",
       "        vertical-align: middle;\n",
       "    }\n",
       "\n",
       "    .dataframe tbody tr th {\n",
       "        vertical-align: top;\n",
       "    }\n",
       "\n",
       "    .dataframe thead th {\n",
       "        text-align: right;\n",
       "    }\n",
       "</style>\n",
       "<table border=\"1\" class=\"dataframe\">\n",
       "  <thead>\n",
       "    <tr style=\"text-align: right;\">\n",
       "      <th></th>\n",
       "      <th>0</th>\n",
       "      <th>1</th>\n",
       "      <th>2</th>\n",
       "      <th>3</th>\n",
       "      <th>4</th>\n",
       "      <th>5</th>\n",
       "      <th>6</th>\n",
       "      <th>7</th>\n",
       "      <th>8</th>\n",
       "      <th>9</th>\n",
       "    </tr>\n",
       "  </thead>\n",
       "  <tbody>\n",
       "    <tr>\n",
       "      <th>0</th>\n",
       "      <td>TRHDE</td>\n",
       "      <td>AC068490.2</td>\n",
       "      <td>FSTL4</td>\n",
       "      <td>RNF220</td>\n",
       "      <td>NTN1</td>\n",
       "      <td>PLXNB2</td>\n",
       "      <td>RYR3</td>\n",
       "      <td>ROR1</td>\n",
       "      <td>ST18</td>\n",
       "      <td>CNTN5</td>\n",
       "    </tr>\n",
       "    <tr>\n",
       "      <th>1</th>\n",
       "      <td>CTD-3088G3.8</td>\n",
       "      <td>FREM2</td>\n",
       "      <td>CCDC102B</td>\n",
       "      <td>MEGF10</td>\n",
       "      <td>RGS20</td>\n",
       "      <td>TNC</td>\n",
       "      <td>CTNNA3</td>\n",
       "      <td>FREM1</td>\n",
       "      <td>PRTG</td>\n",
       "      <td>PAX3</td>\n",
       "    </tr>\n",
       "    <tr>\n",
       "      <th>2</th>\n",
       "      <td>GRIN3A</td>\n",
       "      <td>KIAA1239</td>\n",
       "      <td>GRIN1</td>\n",
       "      <td>ANKRD30BL</td>\n",
       "      <td>CHD5</td>\n",
       "      <td>SCN9A</td>\n",
       "      <td>MCF2L2</td>\n",
       "      <td>ZNF804B</td>\n",
       "      <td>RP11-307P5.1</td>\n",
       "      <td>KSR2</td>\n",
       "    </tr>\n",
       "    <tr>\n",
       "      <th>3</th>\n",
       "      <td>SATB2</td>\n",
       "      <td>MPPED1</td>\n",
       "      <td>MIR137HG</td>\n",
       "      <td>CCBE1</td>\n",
       "      <td>SLA</td>\n",
       "      <td>PLXNA4</td>\n",
       "      <td>DOK5</td>\n",
       "      <td>KCNK2</td>\n",
       "      <td>MEF2C</td>\n",
       "      <td>SLC44A5</td>\n",
       "    </tr>\n",
       "    <tr>\n",
       "      <th>4</th>\n",
       "      <td>CA8</td>\n",
       "      <td>ITPR1</td>\n",
       "      <td>PDE11A</td>\n",
       "      <td>COL24A1</td>\n",
       "      <td>IL1RAPL2</td>\n",
       "      <td>ESRRB</td>\n",
       "      <td>SEMA3D</td>\n",
       "      <td>PCP4</td>\n",
       "      <td>PTGER3</td>\n",
       "      <td>PRMT8</td>\n",
       "    </tr>\n",
       "    <tr>\n",
       "      <th>5</th>\n",
       "      <td>HSPD1</td>\n",
       "      <td>RPS6</td>\n",
       "      <td>PDE3A</td>\n",
       "      <td>HSP90AB1</td>\n",
       "      <td>HSP90AA1</td>\n",
       "      <td>PTMA</td>\n",
       "      <td>MT-ND4</td>\n",
       "      <td>BASP1</td>\n",
       "      <td>SNORA79</td>\n",
       "      <td>PRRC2C</td>\n",
       "    </tr>\n",
       "    <tr>\n",
       "      <th>6</th>\n",
       "      <td>UNC5D</td>\n",
       "      <td>RP11-436D23.1</td>\n",
       "      <td>SEZ6</td>\n",
       "      <td>ENC1</td>\n",
       "      <td>CLMP</td>\n",
       "      <td>LRP8</td>\n",
       "      <td>KCNN3</td>\n",
       "      <td>SLA</td>\n",
       "      <td>KCNQ3</td>\n",
       "      <td>EPHA3</td>\n",
       "    </tr>\n",
       "    <tr>\n",
       "      <th>7</th>\n",
       "      <td>FGF5</td>\n",
       "      <td>LINC01036</td>\n",
       "      <td>FAT2</td>\n",
       "      <td>CTC-340A15.2</td>\n",
       "      <td>NTF3</td>\n",
       "      <td>CTC-535M15.2</td>\n",
       "      <td>SYT9</td>\n",
       "      <td>GNA14</td>\n",
       "      <td>AC011306.2</td>\n",
       "      <td>KCNAB1</td>\n",
       "    </tr>\n",
       "    <tr>\n",
       "      <th>8</th>\n",
       "      <td>RP11-76I14.1</td>\n",
       "      <td>TOP2A</td>\n",
       "      <td>LTBP1</td>\n",
       "      <td>PRDM16</td>\n",
       "      <td>GLI3</td>\n",
       "      <td>MKI67</td>\n",
       "      <td>CELSR1</td>\n",
       "      <td>CENPE</td>\n",
       "      <td>APOLD1</td>\n",
       "      <td>CENPF</td>\n",
       "    </tr>\n",
       "    <tr>\n",
       "      <th>9</th>\n",
       "      <td>AQP4</td>\n",
       "      <td>RP11-561I11.4</td>\n",
       "      <td>SPARCL1</td>\n",
       "      <td>RNF219-AS1</td>\n",
       "      <td>EDNRB</td>\n",
       "      <td>SLC6A11</td>\n",
       "      <td>BCAN</td>\n",
       "      <td>MMD2</td>\n",
       "      <td>EEPD1</td>\n",
       "      <td>LRIG1</td>\n",
       "    </tr>\n",
       "    <tr>\n",
       "      <th>10</th>\n",
       "      <td>ROBO3</td>\n",
       "      <td>SAMD5</td>\n",
       "      <td>KLHL1</td>\n",
       "      <td>RP11-420N3.2</td>\n",
       "      <td>THSD7A</td>\n",
       "      <td>DCC</td>\n",
       "      <td>RP11-307P5.1</td>\n",
       "      <td>NRXN3</td>\n",
       "      <td>KCNMB2</td>\n",
       "      <td>NRCAM</td>\n",
       "    </tr>\n",
       "    <tr>\n",
       "      <th>11</th>\n",
       "      <td>PDGFRA</td>\n",
       "      <td>BCAS1</td>\n",
       "      <td>PCDH15</td>\n",
       "      <td>TNR</td>\n",
       "      <td>LHFPL3</td>\n",
       "      <td>SOX6</td>\n",
       "      <td>GALNT13</td>\n",
       "      <td>SEMA5A</td>\n",
       "      <td>SOX2-OT</td>\n",
       "      <td>EPB41L2</td>\n",
       "    </tr>\n",
       "    <tr>\n",
       "      <th>12</th>\n",
       "      <td>PAX2</td>\n",
       "      <td>SLC6A5</td>\n",
       "      <td>TFAP2B</td>\n",
       "      <td>GAD1</td>\n",
       "      <td>ADARB2</td>\n",
       "      <td>GAD2</td>\n",
       "      <td>SPOCK1</td>\n",
       "      <td>NXPH1</td>\n",
       "      <td>MEGF11</td>\n",
       "      <td>NRXN3</td>\n",
       "    </tr>\n",
       "    <tr>\n",
       "      <th>13</th>\n",
       "      <td>LMX1A</td>\n",
       "      <td>PHACTR2</td>\n",
       "      <td>HDAC9</td>\n",
       "      <td>KHDRBS2</td>\n",
       "      <td>CELF4</td>\n",
       "      <td>TLL1</td>\n",
       "      <td>TSPAN9</td>\n",
       "      <td>MID1</td>\n",
       "      <td>DPYD</td>\n",
       "      <td>DGKB</td>\n",
       "    </tr>\n",
       "    <tr>\n",
       "      <th>14</th>\n",
       "      <td>GPR116</td>\n",
       "      <td>CLDN5</td>\n",
       "      <td>ELTD1</td>\n",
       "      <td>FLT1</td>\n",
       "      <td>VWF</td>\n",
       "      <td>ROBO4</td>\n",
       "      <td>MFSD2A</td>\n",
       "      <td>NOTCH4</td>\n",
       "      <td>AFAP1L1</td>\n",
       "      <td>CD93</td>\n",
       "    </tr>\n",
       "    <tr>\n",
       "      <th>15</th>\n",
       "      <td>SAMSN1</td>\n",
       "      <td>CSF3R</td>\n",
       "      <td>APBB1IP</td>\n",
       "      <td>CSF1R</td>\n",
       "      <td>DOCK8</td>\n",
       "      <td>RP11-556E13.1</td>\n",
       "      <td>SPP1</td>\n",
       "      <td>FYB</td>\n",
       "      <td>CX3CR1</td>\n",
       "      <td>ADAM28</td>\n",
       "    </tr>\n",
       "    <tr>\n",
       "      <th>16</th>\n",
       "      <td>CHDC2</td>\n",
       "      <td>DNAAF1</td>\n",
       "      <td>MAP3K19</td>\n",
       "      <td>WDR16</td>\n",
       "      <td>CCDC42B</td>\n",
       "      <td>DNAH12</td>\n",
       "      <td>FRMPD2</td>\n",
       "      <td>NEK5</td>\n",
       "      <td>DNAH9</td>\n",
       "      <td>AC079354.1</td>\n",
       "    </tr>\n",
       "    <tr>\n",
       "      <th>17</th>\n",
       "      <td>CASC5</td>\n",
       "      <td>HIST1H1D</td>\n",
       "      <td>ASPM</td>\n",
       "      <td>MKI67</td>\n",
       "      <td>ECT2</td>\n",
       "      <td>KIF15</td>\n",
       "      <td>TPX2</td>\n",
       "      <td>HMGB2</td>\n",
       "      <td>HIST1H1E</td>\n",
       "      <td>CENPF</td>\n",
       "    </tr>\n",
       "    <tr>\n",
       "      <th>18</th>\n",
       "      <td>IGF2</td>\n",
       "      <td>COL1A1</td>\n",
       "      <td>COL3A1</td>\n",
       "      <td>PTGDS</td>\n",
       "      <td>COL6A3</td>\n",
       "      <td>SLC6A13</td>\n",
       "      <td>ISLR</td>\n",
       "      <td>COL1A2</td>\n",
       "      <td>CYP1B1</td>\n",
       "      <td>CFH</td>\n",
       "    </tr>\n",
       "    <tr>\n",
       "      <th>19</th>\n",
       "      <td>DLX6-AS1</td>\n",
       "      <td>PDZRN3</td>\n",
       "      <td>PLS3</td>\n",
       "      <td>THRB</td>\n",
       "      <td>SOX2-OT</td>\n",
       "      <td>PDE4DIP</td>\n",
       "      <td>NRXN3</td>\n",
       "      <td>DCX</td>\n",
       "      <td>KIAA0922</td>\n",
       "      <td>ERBB4</td>\n",
       "    </tr>\n",
       "    <tr>\n",
       "      <th>20</th>\n",
       "      <td>AC026167.1</td>\n",
       "      <td>RP11-166O4.5</td>\n",
       "      <td>TTC39A</td>\n",
       "      <td>RP11-386G21.1</td>\n",
       "      <td>COL6A5</td>\n",
       "      <td>LINC00299</td>\n",
       "      <td>AC061961.2</td>\n",
       "      <td>CTD-2008L17.2</td>\n",
       "      <td>RP11-33N16.3</td>\n",
       "      <td>AC016903.2</td>\n",
       "    </tr>\n",
       "  </tbody>\n",
       "</table>\n",
       "</div>"
      ],
      "text/plain": [
       "               0              1         2              3         4  \\\n",
       "0          TRHDE     AC068490.2     FSTL4         RNF220      NTN1   \n",
       "1   CTD-3088G3.8          FREM2  CCDC102B         MEGF10     RGS20   \n",
       "2         GRIN3A       KIAA1239     GRIN1      ANKRD30BL      CHD5   \n",
       "3          SATB2         MPPED1  MIR137HG          CCBE1       SLA   \n",
       "4            CA8          ITPR1    PDE11A        COL24A1  IL1RAPL2   \n",
       "5          HSPD1           RPS6     PDE3A       HSP90AB1  HSP90AA1   \n",
       "6          UNC5D  RP11-436D23.1      SEZ6           ENC1      CLMP   \n",
       "7           FGF5      LINC01036      FAT2   CTC-340A15.2      NTF3   \n",
       "8   RP11-76I14.1          TOP2A     LTBP1         PRDM16      GLI3   \n",
       "9           AQP4  RP11-561I11.4   SPARCL1     RNF219-AS1     EDNRB   \n",
       "10         ROBO3          SAMD5     KLHL1   RP11-420N3.2    THSD7A   \n",
       "11        PDGFRA          BCAS1    PCDH15            TNR    LHFPL3   \n",
       "12          PAX2         SLC6A5    TFAP2B           GAD1    ADARB2   \n",
       "13         LMX1A        PHACTR2     HDAC9        KHDRBS2     CELF4   \n",
       "14        GPR116          CLDN5     ELTD1           FLT1       VWF   \n",
       "15        SAMSN1          CSF3R   APBB1IP          CSF1R     DOCK8   \n",
       "16         CHDC2         DNAAF1   MAP3K19          WDR16   CCDC42B   \n",
       "17         CASC5       HIST1H1D      ASPM          MKI67      ECT2   \n",
       "18          IGF2         COL1A1    COL3A1          PTGDS    COL6A3   \n",
       "19      DLX6-AS1         PDZRN3      PLS3           THRB   SOX2-OT   \n",
       "20    AC026167.1   RP11-166O4.5    TTC39A  RP11-386G21.1    COL6A5   \n",
       "\n",
       "                5             6              7             8           9  \n",
       "0          PLXNB2          RYR3           ROR1          ST18       CNTN5  \n",
       "1             TNC        CTNNA3          FREM1          PRTG        PAX3  \n",
       "2           SCN9A        MCF2L2        ZNF804B  RP11-307P5.1        KSR2  \n",
       "3          PLXNA4          DOK5          KCNK2         MEF2C     SLC44A5  \n",
       "4           ESRRB        SEMA3D           PCP4        PTGER3       PRMT8  \n",
       "5            PTMA        MT-ND4          BASP1       SNORA79      PRRC2C  \n",
       "6            LRP8         KCNN3            SLA         KCNQ3       EPHA3  \n",
       "7    CTC-535M15.2          SYT9          GNA14    AC011306.2      KCNAB1  \n",
       "8           MKI67        CELSR1          CENPE        APOLD1       CENPF  \n",
       "9         SLC6A11          BCAN           MMD2         EEPD1       LRIG1  \n",
       "10            DCC  RP11-307P5.1          NRXN3        KCNMB2       NRCAM  \n",
       "11           SOX6       GALNT13         SEMA5A       SOX2-OT     EPB41L2  \n",
       "12           GAD2        SPOCK1          NXPH1        MEGF11       NRXN3  \n",
       "13           TLL1        TSPAN9           MID1          DPYD        DGKB  \n",
       "14          ROBO4        MFSD2A         NOTCH4       AFAP1L1        CD93  \n",
       "15  RP11-556E13.1          SPP1            FYB        CX3CR1      ADAM28  \n",
       "16         DNAH12        FRMPD2           NEK5         DNAH9  AC079354.1  \n",
       "17          KIF15          TPX2          HMGB2      HIST1H1E       CENPF  \n",
       "18        SLC6A13          ISLR         COL1A2        CYP1B1         CFH  \n",
       "19        PDE4DIP         NRXN3            DCX      KIAA0922       ERBB4  \n",
       "20      LINC00299    AC061961.2  CTD-2008L17.2  RP11-33N16.3  AC016903.2  "
      ]
     },
     "execution_count": 249,
     "metadata": {},
     "output_type": "execute_result"
    }
   ],
   "source": [
    "diff_genes.T"
   ]
  },
  {
   "cell_type": "code",
   "execution_count": 259,
   "metadata": {},
   "outputs": [
    {
     "data": {
      "text/plain": [
       "(5631, 35242)"
      ]
     },
     "execution_count": 259,
     "metadata": {},
     "output_type": "execute_result"
    }
   ],
   "source": [
    "X.shape"
   ]
  },
  {
   "cell_type": "code",
   "execution_count": null,
   "metadata": {
    "collapsed": true
   },
   "outputs": [],
   "source": []
  }
 ],
 "metadata": {
  "kernelspec": {
   "display_name": "Python 3",
   "language": "python",
   "name": "python3"
  },
  "language_info": {
   "codemirror_mode": {
    "name": "ipython",
    "version": 3
   },
   "file_extension": ".py",
   "mimetype": "text/x-python",
   "name": "python",
   "nbconvert_exporter": "python",
   "pygments_lexer": "ipython3",
   "version": "3.5.2"
  }
 },
 "nbformat": 4,
 "nbformat_minor": 2
}
