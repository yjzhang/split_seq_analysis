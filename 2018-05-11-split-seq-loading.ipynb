{
 "cells": [
  {
   "cell_type": "markdown",
   "metadata": {},
   "source": [
    "# Split-seq + UNCURL\n",
    "\n",
    "Data source: https://www.ncbi.nlm.nih.gov/geo/query/acc.cgi?acc=GSE110823"
   ]
  },
  {
   "cell_type": "code",
   "execution_count": 2,
   "metadata": {},
   "outputs": [],
   "source": [
    "import numpy as np\n",
    "import pandas as pd\n",
    "import scipy.io\n",
    "import scipy.sparse"
   ]
  },
  {
   "cell_type": "code",
   "execution_count": 2,
   "metadata": {},
   "outputs": [],
   "source": [
    "!tar -xf GSE110823_RAW.tar"
   ]
  },
  {
   "cell_type": "code",
   "execution_count": 3,
   "metadata": {},
   "outputs": [
    {
     "name": "stdout",
     "output_type": "stream",
     "text": [
      "2018-04-19+AICS+Analysis.ipynb\n",
      "2018-05-11-split-seq-loading.ipynb\n",
      "GSE110823_RAW.tar\n",
      "GSM3017260_100_CNS_nuclei.mat.gz\n",
      "GSM3017261_150000_CNS_nuclei.mat\n",
      "GSM3017262_same_day_cells_nuclei_3000_UBCs.mat.gz\n",
      "GSM3017263_same_day_cells_nuclei_300_UBCs.mat.gz\n",
      "GSM3017264_frozen_preserved_cells_nuclei_1000_UBCs.mat.gz\n",
      "GSM3017265_frozen_preserved_cells_nuclei_200_UBCs.mat.gz\n"
     ]
    }
   ],
   "source": [
    "!ls"
   ]
  },
  {
   "cell_type": "code",
   "execution_count": 6,
   "metadata": {},
   "outputs": [],
   "source": [
    "!gunzip GSM3017261_150000_CNS_nuclei.mat.gz"
   ]
  },
  {
   "cell_type": "code",
   "execution_count": 4,
   "metadata": {},
   "outputs": [],
   "source": [
    "mat = scipy.io.loadmat('GSM3017261_150000_CNS_nuclei.mat')"
   ]
  },
  {
   "cell_type": "code",
   "execution_count": 32,
   "metadata": {},
   "outputs": [],
   "source": [
    "!gzip GSM3017261_150000_CNS_nuclei.mat"
   ]
  },
  {
   "cell_type": "code",
   "execution_count": 5,
   "metadata": {},
   "outputs": [],
   "source": [
    "DGE = scipy.sparse.csc_matrix(mat['DGE'].T)"
   ]
  },
  {
   "cell_type": "code",
   "execution_count": 6,
   "metadata": {},
   "outputs": [
    {
     "data": {
      "text/plain": [
       "(26894, 156049)"
      ]
     },
     "execution_count": 6,
     "metadata": {},
     "output_type": "execute_result"
    }
   ],
   "source": [
    "DGE.shape"
   ]
  },
  {
   "cell_type": "code",
   "execution_count": 7,
   "metadata": {},
   "outputs": [],
   "source": [
    "genes = pd.Series(mat['genes']).str.strip(' ')"
   ]
  },
  {
   "cell_type": "code",
   "execution_count": 8,
   "metadata": {},
   "outputs": [
    {
     "data": {
      "text/plain": [
       "0        0610005C13Rik\n",
       "1        0610007N19Rik\n",
       "2        0610007P14Rik\n",
       "3        0610008F07Rik\n",
       "4        0610009B14Rik\n",
       "5        0610009B22Rik\n",
       "6        0610009D07Rik\n",
       "7        0610009E02Rik\n",
       "8        0610009L18Rik\n",
       "9        0610009O20Rik\n",
       "10       0610010F05Rik\n",
       "11       0610010K14Rik\n",
       "12       0610011F06Rik\n",
       "13       0610012D04Rik\n",
       "14       0610012H03Rik\n",
       "15       0610025J13Rik\n",
       "16       0610030E20Rik\n",
       "17       0610031J06Rik\n",
       "18       0610037L13Rik\n",
       "19       0610038L08Rik\n",
       "20       0610038P03Rik\n",
       "21       0610039K10Rik\n",
       "22       0610040B09Rik\n",
       "23       0610040B10Rik\n",
       "24       0610040F04Rik\n",
       "25       0610040J01Rik\n",
       "26       0610043K17Rik\n",
       "27       1010001B22Rik\n",
       "28       1010001N08Rik\n",
       "29       1100001G20Rik\n",
       "             ...      \n",
       "26864          n-R5s29\n",
       "26865           n-R5s3\n",
       "26866          n-R5s30\n",
       "26867          n-R5s33\n",
       "26868          n-R5s40\n",
       "26869          n-R5s41\n",
       "26870          n-R5s45\n",
       "26871          n-R5s47\n",
       "26872          n-R5s48\n",
       "26873          n-R5s54\n",
       "26874          n-R5s56\n",
       "26875          n-R5s58\n",
       "26876          n-R5s67\n",
       "26877          n-R5s68\n",
       "26878          n-R5s69\n",
       "26879          n-R5s76\n",
       "26880          n-R5s77\n",
       "26881           n-R5s8\n",
       "26882          n-R5s80\n",
       "26883          n-R5s84\n",
       "26884          n-R5s85\n",
       "26885          n-R5s87\n",
       "26886          n-R5s88\n",
       "26887          n-R5s89\n",
       "26888           n-R5s9\n",
       "26889          n-R5s90\n",
       "26890          n-R5s95\n",
       "26891          n-R5s96\n",
       "26892          n-R5s97\n",
       "26893          n-R5s98\n",
       "Length: 26894, dtype: object"
      ]
     },
     "execution_count": 8,
     "metadata": {},
     "output_type": "execute_result"
    }
   ],
   "source": [
    "genes"
   ]
  },
  {
   "cell_type": "code",
   "execution_count": 9,
   "metadata": {},
   "outputs": [],
   "source": [
    "sample_type = pd.Series(mat['sample_type']).str.strip(' ')"
   ]
  },
  {
   "cell_type": "code",
   "execution_count": 10,
   "metadata": {},
   "outputs": [
    {
     "data": {
      "text/plain": [
       "0          p2_brain\n",
       "1         p11_brain\n",
       "2         p11_brain\n",
       "3          p2_brain\n",
       "4          p2_brain\n",
       "5          p2_spine\n",
       "6          p2_spine\n",
       "7          p2_brain\n",
       "8          p2_brain\n",
       "9          p2_brain\n",
       "10         p2_brain\n",
       "11         p2_brain\n",
       "12         p2_brain\n",
       "13         p2_brain\n",
       "14        p11_brain\n",
       "15        p11_brain\n",
       "16        p11_spine\n",
       "17        p11_spine\n",
       "18        p11_brain\n",
       "19        p11_brain\n",
       "20         p2_brain\n",
       "21         p2_brain\n",
       "22         p2_spine\n",
       "23         p2_spine\n",
       "24         p2_brain\n",
       "25        p11_brain\n",
       "26        p11_brain\n",
       "27        p11_brain\n",
       "28        p11_brain\n",
       "29        p11_spine\n",
       "            ...    \n",
       "156019     p2_brain\n",
       "156020    p11_brain\n",
       "156021    p11_brain\n",
       "156022    p11_brain\n",
       "156023    p11_brain\n",
       "156024    p11_spine\n",
       "156025    p11_spine\n",
       "156026    p11_brain\n",
       "156027    p11_brain\n",
       "156028     p2_brain\n",
       "156029     p2_brain\n",
       "156030     p2_brain\n",
       "156031     p2_spine\n",
       "156032     p2_brain\n",
       "156033     p2_brain\n",
       "156034     p2_brain\n",
       "156035    p11_brain\n",
       "156036    p11_brain\n",
       "156037    p11_brain\n",
       "156038    p11_spine\n",
       "156039    p11_spine\n",
       "156040    p11_brain\n",
       "156041    p11_brain\n",
       "156042     p2_brain\n",
       "156043     p2_brain\n",
       "156044     p2_brain\n",
       "156045     p2_brain\n",
       "156046     p2_brain\n",
       "156047     p2_brain\n",
       "156048     p2_brain\n",
       "Length: 156049, dtype: object"
      ]
     },
     "execution_count": 10,
     "metadata": {},
     "output_type": "execute_result"
    }
   ],
   "source": [
    "sample_type"
   ]
  },
  {
   "cell_type": "code",
   "execution_count": 11,
   "metadata": {},
   "outputs": [
    {
     "data": {
      "text/plain": [
       "array(['p2_brain', 'p11_brain', 'p2_spine', 'p11_spine'], dtype=object)"
      ]
     },
     "execution_count": 11,
     "metadata": {},
     "output_type": "execute_result"
    }
   ],
   "source": [
    "sample_type.unique()"
   ]
  },
  {
   "cell_type": "code",
   "execution_count": 12,
   "metadata": {},
   "outputs": [],
   "source": [
    "cluster_assignment = pd.Series(mat['cluster_assignment']).str.strip(' ')"
   ]
  },
  {
   "cell_type": "code",
   "execution_count": 13,
   "metadata": {},
   "outputs": [],
   "source": [
    "spinal_cluster_assignment = pd.Series(mat['spinal_cluster_assignment']).str.strip(' ')"
   ]
  },
  {
   "cell_type": "code",
   "execution_count": 14,
   "metadata": {},
   "outputs": [],
   "source": [
    "# separate data into brain and spinal\n",
    "p2_brain = (sample_type == 'p2_brain')\n",
    "p11_brain = (sample_type == 'p11_brain')\n",
    "p2_spine = (sample_type == 'p2_spine')\n",
    "p11_spine = (sample_type == 'p11_spine')"
   ]
  },
  {
   "cell_type": "code",
   "execution_count": 15,
   "metadata": {},
   "outputs": [
    {
     "data": {
      "text/plain": [
       "74862"
      ]
     },
     "execution_count": 15,
     "metadata": {},
     "output_type": "execute_result"
    }
   ],
   "source": [
    "p2_brain.sum()"
   ]
  },
  {
   "cell_type": "code",
   "execution_count": 16,
   "metadata": {},
   "outputs": [
    {
     "data": {
      "text/plain": [
       "58573"
      ]
     },
     "execution_count": 16,
     "metadata": {},
     "output_type": "execute_result"
    }
   ],
   "source": [
    "p11_brain.sum()"
   ]
  },
  {
   "cell_type": "code",
   "execution_count": 17,
   "metadata": {},
   "outputs": [
    {
     "data": {
      "text/plain": [
       "7028"
      ]
     },
     "execution_count": 17,
     "metadata": {},
     "output_type": "execute_result"
    }
   ],
   "source": [
    "p2_spine.sum()"
   ]
  },
  {
   "cell_type": "code",
   "execution_count": 18,
   "metadata": {},
   "outputs": [
    {
     "data": {
      "text/plain": [
       "15586"
      ]
     },
     "execution_count": 18,
     "metadata": {},
     "output_type": "execute_result"
    }
   ],
   "source": [
    "p11_spine.sum()"
   ]
  },
  {
   "cell_type": "code",
   "execution_count": 19,
   "metadata": {},
   "outputs": [],
   "source": [
    "spinal_cluster_assignment = pd.Series(mat['spinal_cluster_assignment']).str.strip()"
   ]
  },
  {
   "cell_type": "code",
   "execution_count": 20,
   "metadata": {},
   "outputs": [],
   "source": [
    "cluster_assignment = pd.Series(mat['cluster_assignment']).str.strip(' ')"
   ]
  },
  {
   "cell_type": "code",
   "execution_count": 21,
   "metadata": {},
   "outputs": [
    {
     "data": {
      "text/plain": [
       "61044"
      ]
     },
     "execution_count": 21,
     "metadata": {},
     "output_type": "execute_result"
    }
   ],
   "source": [
    "(cluster_assignment == '53 Unresolved').sum()"
   ]
  },
  {
   "cell_type": "code",
   "execution_count": 24,
   "metadata": {},
   "outputs": [],
   "source": [
    "del mat"
   ]
  },
  {
   "cell_type": "markdown",
   "metadata": {},
   "source": [
    "# Data Notes\n",
    "\n",
    "p2 = postnatal day 2 mouse\n",
    "\n",
    "p11 = postnatal day 11 mouse\n",
    "\n",
    "# Writing out spinal cord data as mtx, save gene names and labels"
   ]
  },
  {
   "cell_type": "code",
   "execution_count": 26,
   "metadata": {},
   "outputs": [],
   "source": [
    "spine_indices = (p2_spine | p11_spine).as_matrix()"
   ]
  },
  {
   "cell_type": "code",
   "execution_count": 40,
   "metadata": {},
   "outputs": [
    {
     "data": {
      "text/plain": [
       "22614"
      ]
     },
     "execution_count": 40,
     "metadata": {},
     "output_type": "execute_result"
    }
   ],
   "source": [
    "spine_indices.sum()"
   ]
  },
  {
   "cell_type": "code",
   "execution_count": 28,
   "metadata": {},
   "outputs": [],
   "source": [
    "# save spinal cord data\n",
    "\n",
    "spinal_cord_data = DGE[:, spine_indices]"
   ]
  },
  {
   "cell_type": "code",
   "execution_count": 29,
   "metadata": {},
   "outputs": [
    {
     "data": {
      "text/plain": [
       "(26894, 22614)"
      ]
     },
     "execution_count": 29,
     "metadata": {},
     "output_type": "execute_result"
    }
   ],
   "source": [
    "spinal_cord_data.shape"
   ]
  },
  {
   "cell_type": "code",
   "execution_count": 30,
   "metadata": {},
   "outputs": [],
   "source": [
    "scipy.io.mmwrite('spinal_cord.mtx', spinal_cord_data)"
   ]
  },
  {
   "cell_type": "code",
   "execution_count": 31,
   "metadata": {},
   "outputs": [],
   "source": [
    "!gzip spinal_cord.mtx"
   ]
  },
  {
   "cell_type": "code",
   "execution_count": 35,
   "metadata": {},
   "outputs": [],
   "source": [
    "genes.to_csv('genes.txt', index=False, sep=' ')"
   ]
  },
  {
   "cell_type": "code",
   "execution_count": 43,
   "metadata": {},
   "outputs": [],
   "source": [
    "spinal_cluster_assignment[spine_indices].to_csv('spinal_cluster_assignment.txt', index=False, sep=' ')"
   ]
  },
  {
   "cell_type": "code",
   "execution_count": null,
   "metadata": {},
   "outputs": [],
   "source": []
  }
 ],
 "metadata": {
  "kernelspec": {
   "display_name": "Python 2",
   "language": "python",
   "name": "python2"
  },
  "language_info": {
   "codemirror_mode": {
    "name": "ipython",
    "version": 3
   },
   "file_extension": ".py",
   "mimetype": "text/x-python",
   "name": "python",
   "nbconvert_exporter": "python",
   "pygments_lexer": "ipython3",
   "version": "3.5.2"
  }
 },
 "nbformat": 4,
 "nbformat_minor": 2
}
